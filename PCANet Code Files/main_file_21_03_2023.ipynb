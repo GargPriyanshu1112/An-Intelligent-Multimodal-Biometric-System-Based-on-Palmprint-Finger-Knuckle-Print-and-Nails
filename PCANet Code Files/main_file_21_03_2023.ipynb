{
  "nbformat": 4,
  "nbformat_minor": 0,
  "metadata": {
    "colab": {
      "provenance": []
    },
    "kernelspec": {
      "name": "python3",
      "display_name": "Python 3"
    },
    "language_info": {
      "name": "python"
    }
  },
  "cells": [
    {
      "cell_type": "code",
      "execution_count": null,
      "metadata": {
        "id": "bpjTXCReG0CO"
      },
      "outputs": [],
      "source": [
        "import os\n",
        "from os.path import isdir, join\n",
        "import timeit\n",
        "\n",
        "# added\n",
        "import numpy as np\n",
        "\n",
        "from sklearn.svm import SVC\n",
        "from sklearn.metrics import accuracy_score\n",
        "\n",
        "# avoid the odd behavior of pickle by importing under a different name\n",
        "import pcanet as net\n",
        "from utils import load_model, save_model, load_mnist, set_device"
      ]
    },
    {
      "cell_type": "code",
      "source": [
        "def train(train_set):\n",
        "    images_train, y_train = train_set\n",
        "\n",
        "    print(\"Training PCANet\")\n",
        "\n",
        "    pcanet = net.PCANet(\n",
        "        image_shape=28,\n",
        "        filter_shape_l1=2, step_shape_l1=1, n_l1_output=3,\n",
        "        filter_shape_l2=2, step_shape_l2=1, n_l2_output=3,\n",
        "        filter_shape_pooling=2, step_shape_pooling=2\n",
        "    )\n",
        "\n",
        "    pcanet.validate_structure()\n",
        "\n",
        "    t1 = timeit.default_timer()\n",
        "    pcanet.fit(images_train)\n",
        "    t2 = timeit.default_timer()\n",
        "\n",
        "    train_time = t2 - t1\n",
        "\n",
        "    t1 = timeit.default_timer()\n",
        "    X_train = pcanet.transform(images_train)\n",
        "    t2 = timeit.default_timer()\n",
        "\n",
        "    transform_time = t2 - t1\n",
        "\n",
        "    print(\"Training the classifier\")\n",
        "\n",
        "    classifier = SVC(C=10) # Classification\n",
        "    classifier.fit(X_train, y_train)\n",
        "    return pcanet, classifier"
      ],
      "metadata": {
        "id": "LKDBO-2HG9vL"
      },
      "execution_count": null,
      "outputs": []
    },
    {
      "cell_type": "code",
      "source": [],
      "metadata": {
        "id": "oi67KVetxnjD"
      },
      "execution_count": null,
      "outputs": []
    },
    {
      "cell_type": "markdown",
      "source": [
        "# Use this code instead of get_mist dataset"
      ],
      "metadata": {
        "id": "WzEdWsmc-Ol8"
      }
    },
    {
      "cell_type": "code",
      "source": [
        "from keras.datasets import mnist\n",
        "(train_X, train_y), (test_X, test_y) = mnist.load_data()"
      ],
      "metadata": {
        "colab": {
          "base_uri": "https://localhost:8080/"
        },
        "id": "qT_FJI_g9X7A",
        "outputId": "b996e57f-dd50-4521-9443-b0f007a819a2"
      },
      "execution_count": null,
      "outputs": [
        {
          "output_type": "stream",
          "name": "stdout",
          "text": [
            "Downloading data from https://storage.googleapis.com/tensorflow/tf-keras-datasets/mnist.npz\n",
            "11490434/11490434 [==============================] - 0s 0us/step\n"
          ]
        }
      ]
    },
    {
      "cell_type": "code",
      "source": [
        "train_X.shape"
      ],
      "metadata": {
        "colab": {
          "base_uri": "https://localhost:8080/"
        },
        "id": "tPvuD-289cX7",
        "outputId": "9d040bcd-93c9-4453-8ee5-27000435ccc9"
      },
      "execution_count": null,
      "outputs": [
        {
          "output_type": "execute_result",
          "data": {
            "text/plain": [
              "(60000, 28, 28)"
            ]
          },
          "metadata": {},
          "execution_count": 7
        }
      ]
    },
    {
      "cell_type": "code",
      "source": [
        "X_train = train_X[:, :, :, np.newaxis]\n",
        "X_train.shape"
      ],
      "metadata": {
        "colab": {
          "base_uri": "https://localhost:8080/"
        },
        "id": "FKga8Anh9fAF",
        "outputId": "fe891047-cdc7-4d50-8745-5f32a152a2e5"
      },
      "execution_count": null,
      "outputs": [
        {
          "output_type": "execute_result",
          "data": {
            "text/plain": [
              "(60000, 28, 28, 1)"
            ]
          },
          "metadata": {},
          "execution_count": 10
        }
      ]
    }
  ]
}